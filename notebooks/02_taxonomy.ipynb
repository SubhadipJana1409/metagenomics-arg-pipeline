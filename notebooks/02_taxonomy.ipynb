{
 "cells": [
  {
   "cell_type": "markdown",
   "id": "aa49263b",
   "metadata": {},
   "source": [
    "# Taxonomic Profiling with Kraken2\n",
    "This notebook performs taxonomic classification and visualization of metagenomic reads using Kraken2. The classification is based on NCBI taxonomy, and the results are summarized at the genus and phylum levels.\n",
    "\n",
    "- **Sample ID:** SRR2915339\n",
    "- **Input Data:** Paired-end, quality-trimmed FASTQ files\n",
    "- **Classifier:** Kraken2\n",
    "- **Database:** [Kraken2 DB – pre-built or custom]\n",
    "\n",
    "We parse the Kraken2 `.report` file, extract taxonomy by level, and generate visualizations suitable for presentation and publication.\n"
   ]
  },
  {
   "cell_type": "code",
   "execution_count": null,
   "id": "566e5cb8",
   "metadata": {
    "vscode": {
     "languageId": "plaintext"
    }
   },
   "outputs": [],
   "source": [
    "import pandas as pd\n",
    "import matplotlib.pyplot as plt\n",
    "import seaborn as sns\n",
    "import os\n",
    "from pathlib import Path\n",
    "\n",
    "# Create folders if missing\n",
    "os.makedirs(\"results/taxonomy\", exist_ok=True)\n",
    "os.makedirs(\"results/figures\", exist_ok=True)\n",
    "\n",
    "# Path to Kraken2 report\n",
    "report_path = Path(\"results/taxonomy/SRR2915339_kraken2.report\")\n",
    "\n",
    "# Kraken2 column headers\n",
    "cols = ['percent', 'reads_clade', 'reads_direct', 'rank_code', 'ncbi_taxid', 'name']\n",
    "\n",
    "# Load Kraken2 report\n",
    "df = pd.read_csv(report_path, sep='\\t', header=None, names=cols)\n",
    "df['name'] = df['name'].str.strip()  # Clean spacing\n",
    "df.head()\n"
   ]
  },
  {
   "cell_type": "markdown",
   "id": "44cbf82e",
   "metadata": {},
   "source": [
    "## Genus-Level Taxonomy\n",
    "We extract all taxonomic entries classified at the **genus level** (rank code 'G'), sort by relative abundance, and plot the top 10 most abundant genera.\n"
   ]
  },
  {
   "cell_type": "code",
   "execution_count": null,
   "id": "9cf938c0",
   "metadata": {
    "vscode": {
     "languageId": "plaintext"
    }
   },
   "outputs": [],
   "source": [
    "# Filter to genus level\n",
    "genus_df = df[df['rank_code'] == 'G'].copy()\n",
    "top_genera = genus_df.sort_values(by='percent', ascending=False).head(10)\n",
    "\n",
    "# Save tables\n",
    "genus_df.to_csv(\"results/taxonomy/SRR2915339_genus_abundance.csv\", index=False)\n",
    "top_genera.to_csv(\"results/taxonomy/SRR2915339_top10_genera.csv\", index=False)\n",
    "\n",
    "# Plot top genera\n",
    "plt.figure(figsize=(10,6))\n",
    "sns.barplot(x=top_genera['percent'], y=top_genera['name'], palette='magma')\n",
    "plt.title(\"Top 10 Genera by Relative Abundance\")\n",
    "plt.xlabel(\"Relative Abundance (%)\")\n",
    "plt.ylabel(\"Genus\")\n",
    "plt.tight_layout()\n",
    "plt.savefig(\"results/figures/SRR2915339_top10_genera.png\", dpi=300)\n",
    "plt.savefig(\"results/figures/SRR2915339_top10_genera.pdf\")\n",
    "plt.show()\n"
   ]
  },
  {
   "cell_type": "markdown",
   "id": "831dffaa",
   "metadata": {},
   "source": [
    "## Phylum-Level Taxonomy\n",
    "We repeat the same process at the **phylum level** (rank code 'P') to understand higher-order taxonomic composition.\n"
   ]
  },
  {
   "cell_type": "code",
   "execution_count": null,
   "id": "aa2edfab",
   "metadata": {
    "vscode": {
     "languageId": "plaintext"
    }
   },
   "outputs": [],
   "source": [
    "# Filter to phylum level\n",
    "phylum_df = df[df['rank_code'] == 'P'].copy()\n",
    "phylum_df = phylum_df.sort_values(by='percent', ascending=False)\n",
    "top_phyla = phylum_df.head(10)\n",
    "top5 = phylum_df.head(5)\n",
    "\n",
    "# Save data\n",
    "phylum_df.to_csv(\"results/taxonomy/SRR2915339_phylum_abundance.csv\", index=False)\n",
    "top_phyla.to_csv(\"results/taxonomy/SRR2915339_top10_phyla.csv\", index=False)\n",
    "\n",
    "# Barplot\n",
    "plt.figure(figsize=(10,6))\n",
    "sns.barplot(x=top_phyla['percent'], y=top_phyla['name'], palette='coolwarm')\n",
    "plt.title(\"Top 10 Phyla by Relative Abundance\")\n",
    "plt.xlabel(\"Relative Abundance (%)\")\n",
    "plt.ylabel(\"Phylum\")\n",
    "plt.tight_layout()\n",
    "plt.savefig(\"results/figures/SRR2915339_top10_phyla.png\", dpi=300)\n",
    "plt.savefig(\"results/figures/SRR2915339_top10_phyla.pdf\")\n",
    "plt.show()\n",
    "\n",
    "# Pie chart\n",
    "plt.figure(figsize=(7,7))\n",
    "plt.pie(top5['percent'], labels=top5['name'], autopct='%1.1f%%', startangle=140,\n",
    "        colors=sns.color_palette(\"pastel\"))\n",
    "plt.title(\"Top 5 Phyla Composition\")\n",
    "plt.tight_layout()\n",
    "plt.savefig(\"results/figures/SRR2915339_phylum_piechart.png\", dpi=300)\n",
    "plt.savefig(\"results/figures/SRR2915339_phylum_piechart.pdf\")\n",
    "plt.show()\n"
   ]
  },
  {
   "cell_type": "markdown",
   "id": "839dfe9b",
   "metadata": {},
   "source": [
    "## Conclusion\n",
    "This notebook extracted taxonomic summaries from Kraken2 output, parsed the data at the genus and phylum levels, and generated visualizations of the dominant taxa. These outputs are suitable for:\n",
    "\n",
    "- Exploratory microbiome analysis\n",
    "- Comparative community profiling\n",
    "- Supplementary figures for publications\n",
    "\n",
    "We now proceed to **antibiotic resistance gene (ARG) profiling** in the next notebook.\n"
   ]
  }
 ],
 "metadata": {
  "kernelspec": {
   "display_name": "workshop",
   "language": "python",
   "name": "python3"
  },
  "language_info": {
   "codemirror_mode": {
    "name": "ipython",
    "version": 3
   },
   "file_extension": ".py",
   "mimetype": "text/x-python",
   "name": "python",
   "nbconvert_exporter": "python",
   "pygments_lexer": "ipython3",
   "version": "3.13.5"
  }
 },
 "nbformat": 4,
 "nbformat_minor": 5
}
